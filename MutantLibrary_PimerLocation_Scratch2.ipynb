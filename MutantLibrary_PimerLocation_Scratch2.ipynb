{
 "cells": [
  {
   "cell_type": "code",
   "execution_count": 1,
   "id": "e1f9a9c3-6225-405d-a283-4264fdbd582b",
   "metadata": {},
   "outputs": [],
   "source": [
    "#pip install biopython\n",
    "from Bio import SeqIO\n",
    "from Bio.Seq import Seq\n",
    "# https://biopython.org/wiki/SeqIO\n",
    "import pandas as pd\n",
    "import numpy as np\n",
    "import re"
   ]
  },
  {
   "cell_type": "code",
   "execution_count": 2,
   "id": "9181b1d4-d5be-4e33-827a-9dbcd73f194d",
   "metadata": {},
   "outputs": [],
   "source": [
    "# OPEN TATE PRIMERS \n",
    "Primers = pd.read_excel (\"/Users/qchen2/Desktop/DesignPrimers/TatePrimer.xlsx\")\n",
    "#print (Primers.head())\n",
    "# I think the information need here are \n",
    "# Target G27 Gene\n",
    "Target_Gene = Primers[\"Target G27 Gene\"]\n",
    "Target_Gene = Target_Gene.tolist()\n",
    "# print (len(Target_Gene))\n",
    "# Expect 1152, pop out 1152\n",
    "# Primer 3 \n",
    "Primer3 = Primers[\"(3) Reverse inside\"]\n",
    "# print (len(Primer3))\n",
    "# Correct size\n",
    "# Primer 4\n",
    "Primer4 = Primers[\"(4) Forward outside\"]\n",
    "#print (Primer4.head())\n",
    "#print (Primer3.head())\n",
    "#print (Target_Gene.head())"
   ]
  },
  {
   "cell_type": "code",
   "execution_count": 3,
   "id": "56d5dbdf-31af-44fb-9a45-65002a8c3935",
   "metadata": {},
   "outputs": [],
   "source": [
    "# OPEN G27 GENOME\n",
    "file_path = \"/Users/qchen2/Desktop/DesignPrimers/G27.gb\"\n",
    "# I want to see the structure of this file. \n",
    "with open(file_path, \"r\") as file:\n",
    "    # the file here is known as \"handle\" in some tutorial\n",
    "    # Genbank because that is the type of file I am importing. \n",
    "    for record in SeqIO.parse(file, \"genbank\"):\n",
    "        G27 = record.seq \n",
    "        # print record.seq\n",
    "# The record.seq is calling out the information with the category (?) called seq\n",
    "# You can also do record.id or record.name and etc. \n",
    "# Make the sequence of G27 be G27\n",
    "#G27 = record.seq\n",
    "# Testing to see if it opened the right thing\n",
    "# Proof of concept, check the map to see the sequence actually are the Nth in the file.\n",
    "#print(G27[55:68])"
   ]
  },
  {
   "cell_type": "code",
   "execution_count": 4,
   "id": "b70d7fb1-f15c-4e50-8901-1ee28116c8cf",
   "metadata": {},
   "outputs": [],
   "source": [
    "# Import Primer Library summary \n",
    "Summary = pd.read_excel (\"/Users/qchen2/Desktop/DesignPrimers/Library_Sum.xlsx\")\n",
    "HPG27_Gene = Summary[\"HPG27 Gene\"]"
   ]
  },
  {
   "cell_type": "code",
   "execution_count": 13,
   "id": "fc871397-c5e5-4c4d-b3d6-5e638d290ad3",
   "metadata": {},
   "outputs": [],
   "source": [
    "SEQ = []\n",
    "SEQ.append(str(G27))\n",
    "SEQ = ''.join(SEQ)\n",
    "PM = Primer3.tolist()\n",
    "# If there is a problem, test with 5 rows first by activating the following code\n",
    "############################# TEST WITH 5\n",
    "#PM = PM[0:5]\n",
    "PM2 = Primer4.tolist()\n",
    "############################# TEST WITH 5\n",
    "#PM2 = PM2[0:5]\n",
    "antiSEQ = []\n",
    "antiSEQ.append(str(G27.reverse_complement()))\n",
    "antiSEQ = ''.join(antiSEQ)\n",
    "\n",
    "Loc  = {}\n",
    "for index, primer in enumerate(PM):\n",
    "    matches = list(re.finditer(str(primer), SEQ, flags=re.IGNORECASE))\n",
    "    if matches:\n",
    "        for match in matches:\n",
    "            Loc[index] = match.start()+1, match.end()\n",
    "    else:\n",
    "        # If the primers are not written in 5'>3\" end, use (primer[::-1], antiSEQ) here\n",
    "        matches_anti = list(re.finditer(str(primer), antiSEQ, flags=re.IGNORECASE)) \n",
    "        if matches_anti:\n",
    "            for match in matches_anti:\n",
    "                Loc[index] = abs(match.start() - len(SEQ)), abs(match.end() - 1 - len(SEQ))          \n",
    "        else:\n",
    "            #print(index, primer, \"Warning, No match\")\n",
    "            Loc[index] = \"Warning, No match\"\n",
    "            \n",
    "for index, primer in enumerate(PM2):\n",
    "    matches = list(re.finditer(str(primer), SEQ, flags=re.IGNORECASE))\n",
    "    if matches:\n",
    "        for match in matches:\n",
    "            new_value = list(Loc[index])\n",
    "            new_value.append(match.start()+1)\n",
    "            new_value.append(match.end())\n",
    "            Loc[index] = sorted(new_value)\n",
    "            \n",
    "    else:\n",
    "        # If the primers are not written in 5'>3\" end, use (primer[::-1], antiSEQ) here\n",
    "        matches_anti = list(re.finditer(str(primer), antiSEQ, flags=re.IGNORECASE)) \n",
    "        if matches_anti:\n",
    "            for match in matches_anti:\n",
    "                new_value = list(Loc[index])\n",
    "                new_value.append(abs(match.start() - len(SEQ)))\n",
    "                new_value.append(abs(match.end() -1 - len(SEQ)))\n",
    "                Loc[index] = sorted(new_value)\n",
    "        else:\n",
    "            #print(index, primer, \"Warning, No match\")\n",
    "            Loc[index] = \"Warning, No match\"\n",
    "# If the code does not run, it could be you should activate the warning list\n",
    "# This will help identify the primer set that has no match\n",
    "# and you can go manually to that set to see why there is no match\n",
    "\n",
    "#warning_list = []\n",
    "middle_values_dict = {}\n",
    "\n",
    "for key, value in Loc.items():\n",
    "    middle_values_dict[key] = (value[1], value[2]) \n",
    "    \n",
    "#for key, value in Loc.items():\n",
    "#    if isinstance(value, (list, tuple)) and len(value) == 4:\n",
    "#        middle_values_dict[key] = (value[1], value[2]) \n",
    "#    else:\n",
    "#        warning_list.append(key) \n",
    "\n",
    "# Here are more trouble shooting codes in case it does not run \n",
    "#print(\"Primer Locations:\", Loc)\n",
    "#print(\"Marker location:\", middle_values_dict)\n",
    "#print (\"Primer 3 is\", PM)\n",
    "#print (\"Primer 4 is\", PM2)\n",
    "#print (warning_list)\n",
    "#print (middle_values_dict)"
   ]
  },
  {
   "cell_type": "code",
   "execution_count": 14,
   "id": "35c5af63-0862-4f9b-902e-7c06b2ec2d2c",
   "metadata": {},
   "outputs": [
    {
     "name": "stdout",
     "output_type": "stream",
     "text": [
      "1152\n",
      "1152\n",
      "1152\n"
     ]
    }
   ],
   "source": [
    "print (len(Loc.values()))\n",
    "print (len(Target_Gene))\n",
    "print (len(middle_values_dict.values()))"
   ]
  },
  {
   "cell_type": "code",
   "execution_count": 15,
   "id": "3f2a35d2-9ad3-4c8c-bd64-ba4cfbc7de72",
   "metadata": {},
   "outputs": [],
   "source": [
    "# Using zip to match locations to target gene (on the primer list)\n",
    "new_dict = dict(zip(Target_Gene, middle_values_dict.values()))\n",
    "#print (new_dict)"
   ]
  },
  {
   "cell_type": "code",
   "execution_count": 16,
   "id": "a6232666-a90a-44f3-8e5e-cbe866b2a875",
   "metadata": {},
   "outputs": [],
   "source": [
    "# Merge locations to HPG27 Gene (on the summary list) \n",
    "value_df = pd.DataFrame.from_dict(new_dict, orient='index', columns=['LOC5', 'LOC3'])\n",
    "value_df.reset_index(inplace=True)\n",
    "value_df.rename(columns={'index': 'HPG27 Gene'}, inplace=True)\n",
    "merged_df = Summary.merge(value_df, how='left', left_on=\"HPG27 Gene\", right_on=\"HPG27 Gene\", )\n",
    "merged_df.to_excel(\"SUM.xlsx\", index=False)"
   ]
  }
 ],
 "metadata": {
  "kernelspec": {
   "display_name": "Python 3 (ipykernel)",
   "language": "python",
   "name": "python3"
  },
  "language_info": {
   "codemirror_mode": {
    "name": "ipython",
    "version": 3
   },
   "file_extension": ".py",
   "mimetype": "text/x-python",
   "name": "python",
   "nbconvert_exporter": "python",
   "pygments_lexer": "ipython3",
   "version": "3.12.6"
  }
 },
 "nbformat": 4,
 "nbformat_minor": 5
}
