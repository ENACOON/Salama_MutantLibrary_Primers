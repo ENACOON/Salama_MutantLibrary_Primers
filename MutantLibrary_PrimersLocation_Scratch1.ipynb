{
 "cells": [
  {
   "cell_type": "code",
   "execution_count": 133,
   "id": "0f00b6ff-2d50-40bd-acbf-4badf7d4849b",
   "metadata": {},
   "outputs": [
    {
     "name": "stdout",
     "output_type": "stream",
     "text": [
      "{0: [2, 6, 7, 11], 1: (6, 10), 2: 'Warning, No match', 3: (11, 7)}\n",
      "Marker location: {0: (6, 7)}\n",
      "0 (6, 7)\n",
      "This primer has no match: 1\n",
      "This primer has no match: 2\n",
      "This primer has no match: 3\n"
     ]
    }
   ],
   "source": [
    "# PILOT 3\n",
    "# 0. Realized the index for no match primers will be a problem. \n",
    "# 1. Call index of dictionary\n",
    "# 2. Record the second and third value in dictionary\n",
    "print (Loc)\n",
    "\n",
    "warning_list = []\n",
    "middle_values_dict = {}\n",
    "\n",
    "for key, value in Loc.items():\n",
    "    if isinstance(value, (list, tuple)) and len(value) == 4:\n",
    "        middle_values_dict[key] = (value[1], value[2]) \n",
    "    else:\n",
    "        warning_list.append(key)  # Record keys that don't match criteria\n",
    "\n",
    "print(\"Marker location:\", middle_values_dict)\n",
    "\n",
    "for i in range (0, len(PM)):\n",
    "    if i in middle_values_dict:\n",
    "        print(i, middle_values_dict[i])\n",
    "    else:\n",
    "        print (\"This primer has no match:\",i)"
   ]
  },
  {
   "cell_type": "code",
   "execution_count": 13,
   "id": "d895c272-2dbb-414a-bb77-43d92cd21f25",
   "metadata": {},
   "outputs": [
    {
     "name": "stdout",
     "output_type": "stream",
     "text": [
      "SEQ is 1ATATCGCGATTT\n",
      "antiSEQ is AAATCGCGATAT1\n",
      "the sequences are 13 long\n",
      "0\n",
      "12\n",
      "location of element in antiSEQ is 0 on SEQ\n",
      "ATAT 2 6\n",
      "cgcg 6 10\n",
      "2 TAAA Warning, No match\n",
      "AAAT 11 7\n",
      "{0: (2, 6), 1: (6, 10), 2: 'Warning, No match', 3: (11, 7)}\n",
      "AAAT 11 7\n",
      "{0: [2, 6, 7, 11], 1: (6, 10), 2: 'Warning, No match', 3: (11, 7)}\n"
     ]
    }
   ],
   "source": [
    "# PITLOT 2\n",
    "# 1. Enable dictionary to record primer order instead of primer itself\n",
    "# 2. Record multiple locations of one primer\n",
    "# 3. organize location based on value, ascending order\n",
    "# 4. record unmatch in dictionary loc as well \n",
    "SEQ = \"1ATATCGCGATTT\"\n",
    "PM = [\"ATAT\",\"cgcg\",\"TAAA\", \"AAAT\"]\n",
    "PM2 = [\"AAAT\"]\n",
    "antiSEQ = str(Seq(SEQ).reverse_complement())\n",
    "print (\"SEQ is\", SEQ)\n",
    "print (\"antiSEQ is\", antiSEQ)\n",
    "print (\"the sequences are\",len(SEQ), \"long\")\n",
    "print (SEQ.index(\"1\"))\n",
    "print (antiSEQ.index(\"1\"))\n",
    "correction = abs(antiSEQ.index(\"1\") + 1 - len(SEQ))\n",
    "print (\"location of element in antiSEQ is\", correction, \"on SEQ\")\n",
    "Loc  = {}\n",
    "for index, primer in enumerate(PM):\n",
    "    matches = list(re.finditer(primer, SEQ, re.IGNORECASE))\n",
    "    if matches:\n",
    "        for match in matches:\n",
    "            print(primer, match.start() + 1, match.end() + 1)\n",
    "            Loc[index] = match.start() + 1, match.end() + 1\n",
    "    else:\n",
    "        # If the primers are not written in 5'>3\" end, use (primer[::-1], antiSEQ) here\n",
    "        matches_anti = list(re.finditer(primer, antiSEQ, re.IGNORECASE)) \n",
    "        if matches_anti:\n",
    "            for match in matches_anti:\n",
    "                print(primer, abs(match.start() + 2 - len(SEQ)), abs(match.end() + 2 - len(SEQ))) \n",
    "                Loc[index] = abs(match.start() + 2 - len(SEQ)), abs(match.end() + 2 - len(SEQ))          \n",
    "        else:\n",
    "            print(index, primer, \"Warning, No match\")\n",
    "            Loc[index] = \"Warning, No match\"\n",
    "print (Loc)            \n",
    "for index, primer in enumerate(PM2):\n",
    "    matches = list(re.finditer(primer, SEQ, re.IGNORECASE))\n",
    "    if matches:\n",
    "        for match in matches:\n",
    "            print(primer, match.start() + 1, match.end() + 1)\n",
    "            new_value = list(Loc[index])\n",
    "            new_value.append(match.start() + 1)\n",
    "            new_value.append(match.end() + 1)\n",
    "            Loc[index] = sorted(new_value)\n",
    "            \n",
    "    else:\n",
    "        # If the primers are not written in 5'>3\" end, use (primer[::-1], antiSEQ) here\n",
    "        matches_anti = list(re.finditer(primer, antiSEQ, re.IGNORECASE)) \n",
    "        if matches_anti:\n",
    "            for match in matches_anti:\n",
    "                print(primer, abs(match.start() + 2 - len(SEQ)), abs(match.end() + 2 - len(SEQ)))\n",
    "                new_value = list(Loc[index])\n",
    "                new_value.append(abs(match.start() + 2 - len(SEQ)))\n",
    "                new_value.append(abs(match.end() + 2 - len(SEQ)))\n",
    "                Loc[index] = sorted(new_value)\n",
    "        else:\n",
    "            print(index, primer, \"Warning, No match\")\n",
    "            Loc[index] = \"Warning, No match\"\n",
    "print (Loc)\n",
    "\n",
    "\n"
   ]
  },
  {
   "cell_type": "code",
   "execution_count": 14,
   "id": "3815e2ae-4fc0-4510-945f-da6cbe1e650c",
   "metadata": {},
   "outputs": [
    {
     "name": "stdout",
     "output_type": "stream",
     "text": [
      "SEQ is 1ATATCGCGATTT\n",
      "antiSEQ is AAATCGCGATAT1\n",
      "the sequences are 13 long\n",
      "0\n",
      "12\n",
      "location of element in antiSEQ is 0 on SEQ\n",
      "ATAT 2 6\n",
      "cgcg 6 10\n",
      "TAAA No match\n",
      "AAAT 11 7\n",
      "{0: (11, 7)}\n"
     ]
    }
   ],
   "source": [
    "# PITLOT 1 \n",
    "# 1. Match primers on sense\n",
    "# 2. Match antisense primers\n",
    "# 3. Convert location on antisense to sense\n",
    "# 4. Create dictionary to record primer and start end location\n",
    "SEQ = \"1ATATCGCGATTT\"\n",
    "PM = [\"ATAT\",\"cgcg\",\"TAAA\", \"AAAT\"]\n",
    "antiSEQ = str(Seq(SEQ).reverse_complement())\n",
    "print (\"SEQ is\", SEQ)\n",
    "print (\"antiSEQ is\", antiSEQ)\n",
    "print (\"the sequences are\",len(SEQ), \"long\")\n",
    "print (SEQ.index(\"1\"))\n",
    "print (antiSEQ.index(\"1\"))\n",
    "correction = abs(antiSEQ.index(\"1\") + 1 - len(SEQ))\n",
    "print (\"location of element in antiSEQ is\", correction, \"on SEQ\")\n",
    "Loc  = {}\n",
    "for primer in PM:\n",
    "    matches = list(re.finditer(primer, SEQ, re.IGNORECASE))\n",
    "    if matches:\n",
    "        for match in matches:\n",
    "            print(primer, match.start() + 1, match.end() + 1)\n",
    "            Loc[index] = abs(match.start() + 2 - len(SEQ)), abs(match.end() + 2 - len(SEQ))\n",
    "    else:\n",
    "        # If the primers are not written in 5'>3\" end, use (primer[::-1], antiSEQ) here\n",
    "        matches_anti = list(re.finditer(primer, antiSEQ, re.IGNORECASE)) \n",
    "        if matches_anti:\n",
    "            for match in matches_anti:\n",
    "                print(primer, abs(match.start() + 2 - len(SEQ)), abs(match.end() + 2 - len(SEQ)))\n",
    "                Loc[index] = abs(match.start() + 2 - len(SEQ)), abs(match.end() + 2 - len(SEQ))          \n",
    "        else:\n",
    "            print(primer, \"No match\")\n",
    "print (Loc)"
   ]
  },
  {
   "cell_type": "code",
   "execution_count": 65,
   "id": "8c67940f-7dec-4339-9d94-621fd6aa71b6",
   "metadata": {},
   "outputs": [],
   "source": [
    "# TO access the genome file from NCBI\n",
    "# Search in NCBI (Not NCBI GENOME) https://www.ncbi.nlm.nih.gov/search/all/?term=helicobater+pylori+G27\n",
    "# This is becuase in Genome you will get the assembly (ALL the raw info associated for publishing)\n",
    "# ON this page you will have options for proteins, genomes, literature, clinical ...\n",
    "# Go to Genomes > Nucleotide\n",
    "# And select right one (G27 has a plasmid, don't select that one)\n",
    "# https://www.ncbi.nlm.nih.gov/nuccore/NC_011333.1\n",
    "# Right upper conner, select send to \n",
    "# Picked Complete Record > File > Genebank (full)"
   ]
  },
  {
   "cell_type": "code",
   "execution_count": 3,
   "id": "a8311c58-ef75-4747-bd2b-ec64ad94f763",
   "metadata": {},
   "outputs": [],
   "source": [
    "#pip install biopython\n",
    "from Bio import SeqIO\n",
    "from Bio.Seq import Seq\n",
    "# https://biopython.org/wiki/SeqIO\n",
    "import pandas as pd\n",
    "import numpy as np\n",
    "import re"
   ]
  },
  {
   "cell_type": "code",
   "execution_count": 75,
   "id": "a57035a0-6d05-4ce5-9f89-4789e79b4e95",
   "metadata": {},
   "outputs": [
    {
     "name": "stdout",
     "output_type": "stream",
     "text": [
      "0    CGATTCTGTTATTTTTGAGTTA\n",
      "1       TGGTCAATTCCATGACTAA\n",
      "2      TGTGATTCAAGAAAGAGAAC\n",
      "3        GGTCAGTTTGACGATGAA\n",
      "4          AGGACTTGCGGCTATC\n",
      "Name: (4) Forward outside, dtype: object\n",
      "0    taacacctccaaaagcaattg\n",
      "1          tgctgcttgccaatg\n",
      "2     tctagcagcaattctatgta\n",
      "3      gagacaactaacatgatgg\n",
      "4      catcgcttctgtcataagc\n",
      "Name: (3) Reverse inside, dtype: object\n",
      "0    1089\n",
      "1    1096\n",
      "2    1098\n",
      "3    1107\n",
      "4     880\n",
      "Name: Target G27 Gene, dtype: int64\n"
     ]
    }
   ],
   "source": [
    "# OPEN TATE PRIMERS \n",
    "Primers = pd.read_excel (\"/Users/qchen2/Desktop/DesignPrimers/TatePrimer.xlsx\")\n",
    "#print (Primers.head())\n",
    "# I think the information need here are \n",
    "# Target G27 Gene\n",
    "Target_Gene = Primers[\"Target G27 Gene\"]\n",
    "# Primer 3 \n",
    "Primer3 = Primers[\"(3) Reverse inside\"]\n",
    "# Primer 4\n",
    "Primer4 = Primers[\"(4) Forward outside\"]\n",
    "print (Primer4.head())\n",
    "print (Primer3.head())\n",
    "print (Target_Gene.head())"
   ]
  },
  {
   "cell_type": "code",
   "execution_count": 5,
   "id": "999735e2-3683-4e00-8ac9-224a21b59468",
   "metadata": {},
   "outputs": [
    {
     "name": "stdout",
     "output_type": "stream",
     "text": [
      "ID: NC_011333.1\n",
      "Name: NC_011333\n",
      "Description: Helicobacter pylori G27, complete sequence\n",
      "Database cross-references: BioProject:PRJNA224116, BioSample:SAMN02604237, Assembly:GCF_000021165.1\n",
      "Number of features: 3186\n",
      "/molecule_type=DNA\n",
      "/topology=circular\n",
      "/data_file_division=CON\n",
      "/date=27-MAR-2024\n",
      "/accessions=['NC_011333']\n",
      "/sequence_version=1\n",
      "/keywords=['RefSeq']\n",
      "/source=Helicobacter pylori G27\n",
      "/organism=Helicobacter pylori G27\n",
      "/taxonomy=['Bacteria', 'Pseudomonadati', 'Campylobacterota', 'Epsilonproteobacteria', 'Campylobacterales', 'Helicobacteraceae', 'Helicobacter']\n",
      "/references=[Reference(title='The complete genome sequence of Helicobacter pylori strain G27', ...), Reference(title='Direct Submission', ...), Reference(title='Direct Submission', ...)]\n",
      "/comment=REFSEQ INFORMATION: The reference sequence is identical to\n",
      "CP001173.1.\n",
      "Source DNA and Bacteria available from Nina Salama:\n",
      "nsalama@fhcrc.org.\n",
      "The annotation was added by the NCBI Prokaryotic Genome Annotation\n",
      "Pipeline (PGAP). Information about PGAP can be found here:\n",
      "https://www.ncbi.nlm.nih.gov/genome/annotation_prok/\n",
      "COMPLETENESS: full length.\n",
      "/structured_comment=defaultdict(<class 'dict'>, {'Genome-Annotation-Data': {'Annotation Provider': 'NCBI RefSeq', 'Annotation Name': 'GCF_000021165.1-RS_2024_03_27', 'Annotation Date': '03/27/2024 00:46:52', 'Annotation Pipeline': 'NCBI Prokaryotic Genome Annotation Pipeline (PGAP)', 'Annotation Method': 'Best-placed reference protein set; GeneMarkS-2+', 'Annotation Software revision': '6.7', 'Features Annotated': 'Gene; CDS; rRNA; tRNA; ncRNA', 'Genes (total)': '1,602', 'CDSs (total)': '1,557', 'Genes (coding)': '1,457', 'CDSs (with protein)': '1,457', 'Genes (RNA)': '45', 'rRNAs': '2, 2, 2 (5S, 16S, 23S)', 'complete rRNAs': '2, 2, 2 (5S, 16S, 23S)', 'tRNAs': '36', 'ncRNAs': '3', 'Pseudo Genes (total)': '100', 'CDSs (without protein)': '100', 'Pseudo Genes (ambiguous residues)': '0 of 100', 'Pseudo Genes (frameshifted)': '74 of 100', 'Pseudo Genes (incomplete)': '27 of 100', 'Pseudo Genes (internal stop)': '8 of 100', 'Pseudo Genes (multiple problems)': '8 of 100'}})\n",
      "Seq('TCAATTCAAGGGTTTTTGAGCGAGCTTTTTGCTCAAAGAATCCAAGATAGCGTT...CCC')\n"
     ]
    }
   ],
   "source": [
    "# OPEN G27 GENOME\n",
    "file_path = \"/Users/qchen2/Desktop/DesignPrimers/G27.gb\"\n",
    "# I want to see the structure of this file. \n",
    "with open(file_path, \"r\") as file:\n",
    "    # the file here is known as \"handle\" in some tutorial\n",
    "    # Genbank because that is the type of file I am importing. \n",
    "    for record in SeqIO.parse(file, \"genbank\"):\n",
    "        print(record)  \n",
    "# The record.seq is calling out the information with the category (?) called seq\n",
    "# You can also do record.id or record.name and etc. \n",
    "# Make the sequence of G27 be G27\n",
    "G27 = record.seq\n",
    "# Testing to see if it opened the right thing\n",
    "# Proof of concept, check the map to see the sequence actually are the Nth in the file.\n",
    "#print(G27[55:68])"
   ]
  },
  {
   "cell_type": "code",
   "execution_count": null,
   "id": "e435ca1b-54d5-4f58-b14f-8a945ba6786f",
   "metadata": {},
   "outputs": [],
   "source": [
    "#So now, I have the sequence of G27 called G27\n",
    "# Primer3 and Primer4\n",
    "# And Target_Gene \n",
    "# I PLAN TO:\n",
    "# Find Primer3 in G27\n",
    "# Append start and end location as [5' location A, 3' location B] \n",
    "# Find Primer4 in G27\n",
    "# Append start and end location as [5' location C, 3' location D] \n",
    "# Arrange Location A, B, C, D by asending order\n",
    "# Use the 3rd largest value minus the 2nd largest value to obtain the size of the gene knocked out\n",
    "# Record 3rd largest value and 2nd largest value as they are the location of the marker. \n",
    "# Link this marker location to Target_Gene\n",
    "# Later need to import the record sheet of Mutant Library, find the gene based on Target Gene\n",
    "# And then append the marker location to column R and S. "
   ]
  },
  {
   "cell_type": "code",
   "execution_count": 65,
   "id": "636ed61c-8939-4645-b867-814b2dadddd1",
   "metadata": {},
   "outputs": [
    {
     "name": "stdout",
     "output_type": "stream",
     "text": [
      "Primer Locations: {0: [1192202, 1192222, 1192338, 1192359], 1: [1198661, 1198679, 1199597, 1199611], 2: [1202740, 1202759, 1202943, 1202962], 3: [1213327, 1213345, 1213398, 1213415], 4: [959297, 959315, 959678, 959693]}\n",
      "Marker location: {0: (1192222, 1192338), 1: (1198679, 1199597), 2: (1202759, 1202943), 3: (1213345, 1213398), 4: (959315, 959678)}\n",
      "Primer 3 is ['taacacctccaaaagcaattg', 'tgctgcttgccaatg', 'tctagcagcaattctatgta', 'gagacaactaacatgatgg', 'catcgcttctgtcataagc']\n",
      "Primer 4 is ['CGATTCTGTTATTTTTGAGTTA', 'TGGTCAATTCCATGACTAA', 'TGTGATTCAAGAAAGAGAAC', 'GGTCAGTTTGACGATGAA', 'AGGACTTGCGGCTATC']\n"
     ]
    }
   ],
   "source": [
    "SEQ = []\n",
    "SEQ.append(str(G27))\n",
    "SEQ = ''.join(SEQ)\n",
    "PM = Primer3.tolist()\n",
    "PM = PM[0:5]\n",
    "PM2 = Primer4.tolist()\n",
    "PM2 = PM2[0:5]\n",
    "antiSEQ = []\n",
    "antiSEQ.append(str(G27.reverse_complement()))\n",
    "antiSEQ = ''.join(antiSEQ)\n",
    "\n",
    "Loc  = {}\n",
    "for index, primer in enumerate(PM):\n",
    "    matches = list(re.finditer(str(primer), SEQ, flags=re.IGNORECASE))\n",
    "    if matches:\n",
    "        for match in matches:\n",
    "            Loc[index] = match.start()+1, match.end()\n",
    "    else:\n",
    "        # If the primers are not written in 5'>3\" end, use (primer[::-1], antiSEQ) here\n",
    "        matches_anti = list(re.finditer(str(primer), antiSEQ, flags=re.IGNORECASE)) \n",
    "        if matches_anti:\n",
    "            for match in matches_anti:\n",
    "                Loc[index] = abs(match.start() - len(SEQ)), abs(match.end() - 1 - len(SEQ))          \n",
    "        else:\n",
    "            #print(index, primer, \"Warning, No match\")\n",
    "            Loc[index] = \"Warning, No match\"\n",
    "            \n",
    "for index, primer in enumerate(PM2):\n",
    "    matches = list(re.finditer(str(primer), SEQ, flags=re.IGNORECASE))\n",
    "    if matches:\n",
    "        for match in matches:\n",
    "            new_value = list(Loc[index])\n",
    "            new_value.append(match.start()+1)\n",
    "            new_value.append(match.end())\n",
    "            Loc[index] = sorted(new_value)\n",
    "            \n",
    "    else:\n",
    "        # If the primers are not written in 5'>3\" end, use (primer[::-1], antiSEQ) here\n",
    "        matches_anti = list(re.finditer(str(primer), antiSEQ, flags=re.IGNORECASE)) \n",
    "        if matches_anti:\n",
    "            for match in matches_anti:\n",
    "                new_value = list(Loc[index])\n",
    "                new_value.append(abs(match.start() - len(SEQ)))\n",
    "                new_value.append(abs(match.end() -1 - len(SEQ)))\n",
    "                Loc[index] = sorted(new_value)\n",
    "        else:\n",
    "            #print(index, primer, \"Warning, No match\")\n",
    "            Loc[index] = \"Warning, No match\"\n",
    "\n",
    "warning_list = []\n",
    "middle_values_dict = {}\n",
    "\n",
    "for key, value in Loc.items():\n",
    "    if isinstance(value, (list, tuple)) and len(value) == 4:\n",
    "        middle_values_dict[key] = (value[1], value[2]) \n",
    "    else:\n",
    "        warning_list.append(key) \n",
    "print(\"Primer Locations:\", Loc)\n",
    "print(\"Marker location:\", middle_values_dict)\n",
    "print (\"Primer 3 is\", PM)\n",
    "print (\"Primer 4 is\", PM2)"
   ]
  },
  {
   "cell_type": "code",
   "execution_count": 74,
   "id": "21f53b5d-8149-4d4a-92ae-cec864b8c06b",
   "metadata": {},
   "outputs": [
    {
     "name": "stdout",
     "output_type": "stream",
     "text": [
      "Gene 1089 has marker at location (1192222, 1192338)\n",
      "Gene 1096 has marker at location (1198679, 1199597)\n",
      "Gene 1098 has marker at location (1202759, 1202943)\n",
      "Gene 1107 has marker at location (1213345, 1213398)\n",
      "Gene 880 has marker at location (959315, 959678)\n"
     ]
    }
   ],
   "source": [
    "for i in range (0,len(PM)):\n",
    "    print (\"Gene\", Target_Gene[i], \"has marker at location\", middle_values_dict[i])\n"
   ]
  },
  {
   "cell_type": "code",
   "execution_count": null,
   "id": "691b71d5-07be-4aeb-bffb-b2e8a73de5c7",
   "metadata": {},
   "outputs": [],
   "source": [
    "Target_Gene[:3]"
   ]
  }
 ],
 "metadata": {
  "kernelspec": {
   "display_name": "Python 3 (ipykernel)",
   "language": "python",
   "name": "python3"
  },
  "language_info": {
   "codemirror_mode": {
    "name": "ipython",
    "version": 3
   },
   "file_extension": ".py",
   "mimetype": "text/x-python",
   "name": "python",
   "nbconvert_exporter": "python",
   "pygments_lexer": "ipython3",
   "version": "3.12.6"
  }
 },
 "nbformat": 4,
 "nbformat_minor": 5
}
